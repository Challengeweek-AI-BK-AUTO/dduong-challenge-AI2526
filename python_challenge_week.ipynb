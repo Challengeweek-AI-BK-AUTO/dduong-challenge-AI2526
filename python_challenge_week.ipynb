{
  "cells": [
    {
      "cell_type": "markdown",
      "metadata": {
        "id": "view-in-github",
        "colab_type": "text"
      },
      "source": [
        "<a href=\"https://colab.research.google.com/github/Challengeweek-AI-BK-AUTO/dduong-challenge-AI2526/blob/main/python_challenge_week.ipynb\" target=\"_parent\"><img src=\"https://colab.research.google.com/assets/colab-badge.svg\" alt=\"Open In Colab\"/></a>"
      ]
    },
    {
      "cell_type": "markdown",
      "id": "80eec36f",
      "metadata": {
        "id": "80eec36f"
      },
      "source": [
        "# Python Challenge Week\n",
        "Chào mừng bạn đến với tuần thử thách! Notebook này dẫn bạn đi từ kiến thức nền tảng tới dự án dữ liệu hoàn chỉnh. Hãy đọc kỹ phần mô tả, chạy các ví dụ và hoàn thành thử thách cuối mỗi module."
      ]
    },
    {
      "cell_type": "markdown",
      "id": "bd57068b",
      "metadata": {
        "id": "bd57068b"
      },
      "source": [
        "## Hướng dẫn sử dụng\n",
        "1. Đọc phần 📖 Giải thích để nắm khái niệm.\n",
        "2. Chạy các cell 💻 Ví dụ để quan sát kết quả.\n",
        "3. Nghiên cứu ⚠️ Common Mistakes và 💡 Pythonic Way để tránh lỗi.\n",
        "4. Hoàn thành 🎯 Thử thách bằng cách viết mã ở các cell TODO.\n",
        "5. Ở cuối notebook, chọn một dự án để thực hành tổng hợp kỹ năng."
      ]
    },
    {
      "cell_type": "markdown",
      "id": "c15a09d2",
      "metadata": {
        "id": "c15a09d2"
      },
      "source": [
        "## Phần Setup\n",
        "Chúng ta sẽ cài đặt các thư viện cần thiết và kiểm tra môi trường."
      ]
    },
    {
      "cell_type": "markdown",
      "id": "de67f094",
      "metadata": {
        "id": "de67f094"
      },
      "source": [
        "### Vui long dien ho va ten cua ban o day\n",
        "Ho va ten: Đàm Thận Dương\n",
        "MSSV: 202421003"
      ]
    },
    {
      "cell_type": "markdown",
      "id": "ced1c1be",
      "metadata": {
        "id": "ced1c1be"
      },
      "source": [
        "### Cài đặt thư viện\n",
        "Nếu bạn đang dùng môi trường ảo, hãy đảm bảo đã kích hoạt trước khi cài đặt."
      ]
    },
    {
      "cell_type": "code",
      "execution_count": null,
      "id": "3259f264",
      "metadata": {
        "id": "3259f264",
        "outputId": "9cd97388-0439-4bcd-e6ca-c07b33d53754"
      },
      "outputs": [
        {
          "name": "stdout",
          "output_type": "stream",
          "text": [
            "Note: you may need to restart the kernel to use updated packages.\n"
          ]
        }
      ],
      "source": [
        "# Cài đặt numpy và matplotlib (chạy một lần)\n",
        "%pip install numpy matplotlib"
      ]
    },
    {
      "cell_type": "markdown",
      "id": "396b46d4",
      "metadata": {
        "id": "396b46d4"
      },
      "source": [
        "### Kiểm tra import\n",
        "Chạy cell dưới để chắc chắn thư viện đã sẵn sàng."
      ]
    },
    {
      "cell_type": "code",
      "execution_count": 1,
      "id": "4a974b0c",
      "metadata": {
        "id": "4a974b0c",
        "outputId": "09296e9c-178d-4d20-c777-6689e8972fe0",
        "colab": {
          "base_uri": "https://localhost:8080/"
        }
      },
      "outputs": [
        {
          "output_type": "stream",
          "name": "stdout",
          "text": [
            "Thư viện đã sẵn sàng!\n"
          ]
        }
      ],
      "source": [
        "import math\n",
        "import statistics as stats\n",
        "import numpy as np\n",
        "import matplotlib.pyplot as plt\n",
        "\n",
        "print(\"Thư viện đã sẵn sàng!\")"
      ]
    },
    {
      "cell_type": "markdown",
      "id": "379eb267",
      "metadata": {
        "id": "379eb267"
      },
      "source": [
        "## Phần 1: Python Essentials"
      ]
    },
    {
      "cell_type": "markdown",
      "id": "07ecbe18",
      "metadata": {
        "id": "07ecbe18"
      },
      "source": [
        "### Module 1: Basic Syntax & Data Types\n",
        "#### 📖 Giải thích\n",
        "- Các kiểu dữ liệu cơ bản: `int`, `float`, `str`, `bool`.\n",
        "- Ép kiểu bằng `int()`, `float()`, `str()`, `bool()`.\n",
        "#### ⚠️ Common Mistakes\n",
        "- Cộng chuỗi với số: `\"5\" + 2` gây `TypeError`.\n",
        "#### 💡 Pythonic Way\n",
        "- Ưu tiên f-string (`f\"...{value}...\"`) thay vì `%` formatting.\n",
        "#### 🎯 Thử thách\n",
        "- Viết chương trình nhận cân nặng (kg), chiều cao (m), tính BMI và phân loại."
      ]
    },
    {
      "cell_type": "code",
      "execution_count": 5,
      "id": "6d7d8998",
      "metadata": {
        "id": "6d7d8998",
        "outputId": "d54186db-0515-4bf5-96a9-c96a79734ad3",
        "colab": {
          "base_uri": "https://localhost:8080/"
        }
      },
      "outputs": [
        {
          "output_type": "stream",
          "name": "stdout",
          "text": [
            "Lan (20 tuổi) cao 1.62m. Sinh viên? True\n",
            "Ép kiểu từ chuỗi sang số: 42\n"
          ]
        }
      ],
      "source": [
        "# 💻 Ví dụ: Khai báo biến và ép kiểu\n",
        "name = \"Lan\"\n",
        "age = 20\n",
        "height = 1.62\n",
        "is_student = True\n",
        "age_str = str(age)\n",
        "print(f\"{name} ({age} tuổi) cao {height}m. Sinh viên? {is_student}\")\n",
        "print(\"Ép kiểu từ chuỗi sang số:\", int(\"42\"))"
      ]
    },
    {
      "cell_type": "code",
      "execution_count": null,
      "id": "5cc205f5",
      "metadata": {
        "id": "5cc205f5"
      },
      "outputs": [],
      "source": [
        "# 🎯 Thử thách: Tính BMI và phân loại\n",
        "# TODO: Nhập cân nặng (kg) và chiều cao (m) từ người dùng\n",
        "# TODO: Tính BMI = weight / (height ** 2)\n",
        "# TODO: Phân loại theo chuẩn WHO (Underweight, Normal, Overweight, Obese)\n",
        "# Gợi ý: Dùng điều kiện if/elif để phân loại"
      ]
    },
    {
      "cell_type": "code",
      "source": [
        "height = float(input(\"height(m) = \"))\n",
        "weight = float(input(\"weight(kg) = \"))\n",
        "BMI = weight / (height ** 2)\n",
        "print(f\"BMI = {BMI:.2f}\")\n",
        "if BMI < 18.5:\n",
        "  print(\"Underweight\")\n",
        "elif BMI < 25:\n",
        "  print(\"Normal\")\n",
        "elif BMI < 30:\n",
        "  print(\"Overweight\")\n",
        "else :\n",
        "  print(\"Obese\")"
      ],
      "metadata": {
        "colab": {
          "base_uri": "https://localhost:8080/"
        },
        "collapsed": true,
        "id": "qYdagxSs8Wov",
        "outputId": "e55db35b-acb7-4b33-c174-abf594f9fdf6"
      },
      "id": "qYdagxSs8Wov",
      "execution_count": 6,
      "outputs": [
        {
          "output_type": "stream",
          "name": "stdout",
          "text": [
            "height(m) = 1.5\n",
            "weight(kg) = 45\n",
            "BMI = 20.00\n",
            "Normal\n"
          ]
        }
      ]
    },
    {
      "cell_type": "markdown",
      "id": "e01f86d4",
      "metadata": {
        "id": "e01f86d4"
      },
      "source": [
        "### Module 2: Data Structures - List\n",
        "#### 📖 Giải thích\n",
        "- `list` là cấu trúc có thứ tự, mutable, hỗ trợ indexing & slicing.\n",
        "- Dùng `list[start:stop:step]` để cắt danh sách.\n",
        "#### ⚠️ Common Mistakes\n",
        "- \"Index out of range\" khi truy cập vượt giới hạn.\n",
        "- Sao chép nông: `copy_list = original_list` cùng tham chiếu.\n",
        "#### 💡 Pythonic Way\n",
        "- Dùng slicing `list[:]` tạo bản sao, hoặc list comprehension.\n",
        "- Khai thác indexing âm (`list[-1]`) để lấy phần tử cuối.\n",
        "#### 🎯 Thử thách\n",
        "- Tìm max, min, trung bình của danh sách điểm."
      ]
    },
    {
      "cell_type": "code",
      "execution_count": 4,
      "id": "6875f2d9",
      "metadata": {
        "id": "6875f2d9",
        "outputId": "b258f285-3fbe-4e60-c5d4-f1c5ad645909",
        "colab": {
          "base_uri": "https://localhost:8080/"
        }
      },
      "outputs": [
        {
          "output_type": "stream",
          "name": "stdout",
          "text": [
            "Danh sách điểm: [8.5, 9.0, 6.75, 7.8, 10, 8.0]\n",
            "Điểm đầu tiên: 8.5\n",
            "Điểm cuối cùng: 8.0\n",
            "Top 3 điểm đầu: [8.5, 9.0, 6.75]\n",
            "Danh sách sau khi reverse: [8.0, 10, 7.8, 6.75, 9.0, 8.5]\n"
          ]
        }
      ],
      "source": [
        "# 💻 Ví dụ: Các thao tác list\n",
        "scores = [8.5, 9.0, 6.5, 7.8, 10]\n",
        "scores.append(8.0)\n",
        "removed = scores.pop(2)  # Xoá phần tử tại index 2\n",
        "scores.insert(2, 6.75)\n",
        "print(\"Danh sách điểm:\", scores)\n",
        "print(\"Điểm đầu tiên:\", scores[0])\n",
        "print(\"Điểm cuối cùng:\", scores[-1])\n",
        "print(\"Top 3 điểm đầu:\", scores[:3])\n",
        "print(\"Danh sách sau khi reverse:\", list(reversed(scores)))"
      ]
    },
    {
      "cell_type": "code",
      "execution_count": null,
      "id": "23d9e7f8",
      "metadata": {
        "id": "23d9e7f8"
      },
      "outputs": [],
      "source": [
        "# 🎯 Thử thách: Thống kê điểm trong list\n",
        "# TODO: Cho sẵn danh sách điểm, hãy tính max, min và trung bình\n",
        "# TODO: In kết quả với định dạng dễ đọc\n",
        "sample_scores = [9, 7.5, 8.25, 6, 10, 7.75]\n",
        "# Gợi ý: sử dụng max(), min(), sum()/len()"
      ]
    },
    {
      "cell_type": "code",
      "source": [
        "scores = [9, 7.5, 8.25, 6, 10, 7.75]\n",
        "max_score = max(scores)\n",
        "min_score = min(scores)\n",
        "avg_score = sum(scores) / len(scores)\n",
        "print(f\"Max : {max_score}\")\n",
        "print(f\"Min : {min_score}\")\n",
        "print(f\"Average : {avg_score:.2f}\")\n"
      ],
      "metadata": {
        "colab": {
          "base_uri": "https://localhost:8080/"
        },
        "id": "ARevnvajpL_O",
        "outputId": "6357a890-9c6e-4abd-8dda-98ab6d01dfe5"
      },
      "id": "ARevnvajpL_O",
      "execution_count": 3,
      "outputs": [
        {
          "output_type": "stream",
          "name": "stdout",
          "text": [
            "Max : 10\n",
            "Min : 6\n",
            "Average : 8.08\n"
          ]
        }
      ]
    },
    {
      "cell_type": "markdown",
      "id": "c6b94cfc",
      "metadata": {
        "id": "c6b94cfc"
      },
      "source": [
        "### Module 3: Data Structures - Dictionary\n",
        "#### 📖 Giải thích\n",
        "- `dict` lưu trữ cặp key-value, key phải hashable và duy nhất.\n",
        "- Các phương thức hữu dụng: `.keys()`, `.values()`, `.items()`.\n",
        "#### ⚠️ Common Mistakes\n",
        "- `KeyError` khi truy cập key không tồn tại.\n",
        "- Dùng kiểu mutable làm key (list, dict).\n",
        "#### 💡 Pythonic Way\n",
        "- Dùng `dict.get(key, default)` để tránh lỗi.\n",
        "- Duyệt `for key, value in dict.items()` để lấy cặp key & value.\n",
        "#### 🎯 Thử thách\n",
        "- Đếm tần suất xuất hiện của mỗi từ trong một đoạn văn."
      ]
    },
    {
      "cell_type": "code",
      "execution_count": 7,
      "id": "33fd6f04",
      "metadata": {
        "id": "33fd6f04",
        "outputId": "0a8aaf7e-db80-43da-9c22-53de678e91db",
        "colab": {
          "base_uri": "https://localhost:8080/"
        }
      },
      "outputs": [
        {
          "output_type": "stream",
          "name": "stdout",
          "text": [
            "Thông tin học sinh:\n",
            "- name: Minh\n",
            "- age: 19\n",
            "- scores: [8, 9, 7.5]\n",
            "- email: minh@example.com\n",
            "- major: Advanced Automotive Engineering\n",
            "Điểm trung bình: 8.166666666666666\n"
          ]
        }
      ],
      "source": [
        "# 💻 Ví dụ: Làm việc với dictionary\n",
        "student = {\"name\": \"Minh\", \"age\": 19, \"scores\": [8, 9, 7.5]}\n",
        "student[\"email\"] = \"minh@example.com\"\n",
        "student.update({\"major\": \"Advanced Automotive Engineering\"})\n",
        "print(\"Thông tin học sinh:\")\n",
        "for key, value in student.items():\n",
        "    print(f\"- {key}: {value}\")\n",
        "print(\"Điểm trung bình:\", sum(student[\"scores\"]) / len(student[\"scores\"]))"
      ]
    },
    {
      "cell_type": "code",
      "execution_count": null,
      "id": "c3e32a64",
      "metadata": {
        "id": "c3e32a64"
      },
      "outputs": [],
      "source": [
        "# 🎯 Thử thách: Đếm tần suất từ\n",
        "# TODO: Yêu cầu người dùng nhập một câu bất kỳ\n",
        "# TODO: Chuyển câu về chữ thường, tách theo khoảng trắng\n",
        "# TODO: Dùng dictionary để đếm số lần xuất hiện của từng từ\n",
        "# Gợi ý: Sử dụng dict.get(word, 0)"
      ]
    },
    {
      "cell_type": "code",
      "source": [
        "sentence = input(\"Sentence = :\")\n",
        "words = sentence.lower().split()\n",
        "words_count = {}\n",
        "for word in words:\n",
        "  words_count[word] = words_count.get(word, 0) +1\n",
        "for word, count in words_count.items():\n",
        "  print(f\"{word}:{count}\" )"
      ],
      "metadata": {
        "colab": {
          "base_uri": "https://localhost:8080/"
        },
        "id": "e3n1RQit_2EQ",
        "outputId": "01bdf1c8-dc68-4c8c-87c2-bb1bec25f4bb"
      },
      "id": "e3n1RQit_2EQ",
      "execution_count": 10,
      "outputs": [
        {
          "output_type": "stream",
          "name": "stdout",
          "text": [
            "Sentence = :hello HELLO HEllo hehe hehe hehee\n",
            "hello:3\n",
            "hehe:2\n",
            "hehee:1\n"
          ]
        }
      ]
    },
    {
      "cell_type": "markdown",
      "id": "d8df3c7f",
      "metadata": {
        "id": "d8df3c7f"
      },
      "source": [
        "### Module 4: Control Flow\n",
        "#### 📖 Giải thích\n",
        "- Cấu trúc điều kiện: `if`, `elif`, `else`.\n",
        "- Vòng lặp: `for`, `while`, `range`, kèm `break`, `continue`.\n",
        "#### ⚠️ Common Mistakes\n",
        "- Vòng lặp vô hạn do điều kiện dừng sai.\n",
        "- Lỗi thụt lề (indentation).\n",
        "#### 💡 Pythonic Way\n",
        "- Duyệt trực tiếp phần tử: `for item in collection`.\n",
        "- Dùng `enumerate()` khi cần index và giá trị.\n",
        "#### 🎯 Thử thách\n",
        "- In bảng cửu chương từ 1 đến 10 (mỗi dòng biểu diễn một phép nhân)."
      ]
    },
    {
      "cell_type": "code",
      "execution_count": 11,
      "id": "79d601fa",
      "metadata": {
        "id": "79d601fa",
        "colab": {
          "base_uri": "https://localhost:8080/"
        },
        "outputId": "eed16581-fab5-4149-e90b-a9ec6db1c25b"
      },
      "outputs": [
        {
          "output_type": "stream",
          "name": "stdout",
          "text": [
            "1. apple\n",
            "2. banana\n",
            "3. cherry\n",
            "Lan làm rất tốt!\n",
            "Minh làm rất tốt!\n",
            "Hoa cần cải thiện\n"
          ]
        }
      ],
      "source": [
        "# 💻 Ví dụ: Vòng lặp với list và dict\n",
        "fruits = [\"apple\", \"banana\", \"cherry\"]\n",
        "for index, fruit in enumerate(fruits, start=1):\n",
        "    print(f\"{index}. {fruit}\")\n",
        "\n",
        "grades = {\"Lan\": 9, \"Minh\": 8.5, \"Hoa\": 7.75}\n",
        "for name, grade in grades.items():\n",
        "    if grade < 8:\n",
        "        print(f\"{name} cần cải thiện\")\n",
        "    else:\n",
        "        print(f\"{name} làm rất tốt!\")"
      ]
    },
    {
      "cell_type": "code",
      "execution_count": 14,
      "id": "7659eb63",
      "metadata": {
        "id": "7659eb63"
      },
      "outputs": [],
      "source": [
        "# 🎯 Thử thách: Bảng cửu chương\n",
        "# TODO: Sử dụng hai vòng lặp for lồng nhau\n",
        "# TODO: In bảng cửu chương từ 1 đến 10 theo định dạng 'a x b = c'\n",
        "# Gợi ý: sử dụng end='\t' để canh dòng đẹp mắt"
      ]
    },
    {
      "cell_type": "code",
      "source": [
        "for(a) in range(1,11):\n",
        "  for(b) in range(1,11):\n",
        "    print(f\"{a} x {b} = {a*b}\", end = '\\t') #'\\t' để canh đều cột\n",
        "  print() #xuống dòng sau mỗi bảng"
      ],
      "metadata": {
        "colab": {
          "base_uri": "https://localhost:8080/"
        },
        "id": "HCcCSwqoQLYd",
        "outputId": "8786aa36-bdd8-4ee3-fe5d-055285114056"
      },
      "id": "HCcCSwqoQLYd",
      "execution_count": 17,
      "outputs": [
        {
          "output_type": "stream",
          "name": "stdout",
          "text": [
            "1 x 1 = 1\t1 x 2 = 2\t1 x 3 = 3\t1 x 4 = 4\t1 x 5 = 5\t1 x 6 = 6\t1 x 7 = 7\t1 x 8 = 8\t1 x 9 = 9\t1 x 10 = 10\t\n",
            "2 x 1 = 2\t2 x 2 = 4\t2 x 3 = 6\t2 x 4 = 8\t2 x 5 = 10\t2 x 6 = 12\t2 x 7 = 14\t2 x 8 = 16\t2 x 9 = 18\t2 x 10 = 20\t\n",
            "3 x 1 = 3\t3 x 2 = 6\t3 x 3 = 9\t3 x 4 = 12\t3 x 5 = 15\t3 x 6 = 18\t3 x 7 = 21\t3 x 8 = 24\t3 x 9 = 27\t3 x 10 = 30\t\n",
            "4 x 1 = 4\t4 x 2 = 8\t4 x 3 = 12\t4 x 4 = 16\t4 x 5 = 20\t4 x 6 = 24\t4 x 7 = 28\t4 x 8 = 32\t4 x 9 = 36\t4 x 10 = 40\t\n",
            "5 x 1 = 5\t5 x 2 = 10\t5 x 3 = 15\t5 x 4 = 20\t5 x 5 = 25\t5 x 6 = 30\t5 x 7 = 35\t5 x 8 = 40\t5 x 9 = 45\t5 x 10 = 50\t\n",
            "6 x 1 = 6\t6 x 2 = 12\t6 x 3 = 18\t6 x 4 = 24\t6 x 5 = 30\t6 x 6 = 36\t6 x 7 = 42\t6 x 8 = 48\t6 x 9 = 54\t6 x 10 = 60\t\n",
            "7 x 1 = 7\t7 x 2 = 14\t7 x 3 = 21\t7 x 4 = 28\t7 x 5 = 35\t7 x 6 = 42\t7 x 7 = 49\t7 x 8 = 56\t7 x 9 = 63\t7 x 10 = 70\t\n",
            "8 x 1 = 8\t8 x 2 = 16\t8 x 3 = 24\t8 x 4 = 32\t8 x 5 = 40\t8 x 6 = 48\t8 x 7 = 56\t8 x 8 = 64\t8 x 9 = 72\t8 x 10 = 80\t\n",
            "9 x 1 = 9\t9 x 2 = 18\t9 x 3 = 27\t9 x 4 = 36\t9 x 5 = 45\t9 x 6 = 54\t9 x 7 = 63\t9 x 8 = 72\t9 x 9 = 81\t9 x 10 = 90\t\n",
            "10 x 1 = 10\t10 x 2 = 20\t10 x 3 = 30\t10 x 4 = 40\t10 x 5 = 50\t10 x 6 = 60\t10 x 7 = 70\t10 x 8 = 80\t10 x 9 = 90\t10 x 10 = 100\t\n"
          ]
        }
      ]
    },
    {
      "cell_type": "markdown",
      "id": "86da1b90",
      "metadata": {
        "id": "86da1b90"
      },
      "source": [
        "### Module 5: Functions & Strings\n",
        "#### 📖 Giải thích\n",
        "- Định nghĩa hàm với `def`, tham số và `return`.\n",
        "- Các thao tác chuỗi: `.split()`, `.join()`, `.strip()`, `.lower()`.\n",
        "#### ⚠️ Common Mistakes\n",
        "- Quên `return` nên hàm trả về `None`.\n",
        "- Dùng giá trị mutable làm tham số mặc định.\n",
        "#### 💡 Pythonic Way\n",
        "- Viết docstring ngắn mô tả chức năng hàm.\n",
        "- (Tuỳ chọn) Dùng type hints để rõ ràng đầu vào/đầu ra.\n",
        "#### 🎯 Thử thách\n",
        "- Viết hàm kiểm tra chuỗi palindrome (đối xứng)."
      ]
    },
    {
      "cell_type": "code",
      "execution_count": 1,
      "id": "8c65b574",
      "metadata": {
        "id": "8c65b574",
        "outputId": "44cb86f2-ecbf-4137-a92a-7b0aa7863be9",
        "colab": {
          "base_uri": "https://localhost:8080/"
        }
      },
      "outputs": [
        {
          "output_type": "stream",
          "name": "stdout",
          "text": [
            "Nguyen Van A đạt 8.46 điểm\n"
          ]
        }
      ],
      "source": [
        "# 💻 Ví dụ: Định nghĩa hàm và thao tác chuỗi\n",
        "def format_student(name: str, score: float) -> str:\n",
        "    \"\"\"Trả về câu mô tả điểm của học sinh.\"\"\"\n",
        "    clean_name = name.strip().title()\n",
        "    return f\"{clean_name} đạt {score:.2f} điểm\"\n",
        "\n",
        "print(format_student(\"  nguyen van a\", 8.456))"
      ]
    },
    {
      "cell_type": "code",
      "execution_count": null,
      "id": "e8d2abbe",
      "metadata": {
        "id": "e8d2abbe",
        "outputId": "6503db17-45ba-40e1-e67a-f0bb3fffab3a"
      },
      "outputs": [
        {
          "name": "stdout",
          "output_type": "stream",
          "text": [
            "level -> None\n",
            "Able was I ere I saw Elba -> None\n",
            "Python -> None\n"
          ]
        }
      ],
      "source": [
        "# 🎯 Thử thách: Hàm kiểm tra palindrome\n",
        "# TODO: Viết hàm is_palindrome(text: str) -> bool\n",
        "# TODO: Bỏ khoảng trắng và phân biệt hoa thường trước khi kiểm tra\n",
        "# TODO: Thử nghiệm một vài ví dụ\n",
        "def is_palindrome(text: str) -> bool:\n",
        "    pass  # Thay thế bằng triển khai của bạn\n",
        "\n",
        "# Ví dụ kiểm thử\n",
        "examples = [\"level\", \"Able was I ere I saw Elba\", \"Python\"]\n",
        "for example in examples:\n",
        "    print(example, '->', is_palindrome(example))"
      ]
    },
    {
      "cell_type": "code",
      "source": [
        "def is_palindrome(text: str) -> bool:\n",
        "  clean_text = text.replace(\" \", \"\").lower()\n",
        "  return clean_text == clean_text[::-1]\n",
        "#ex\n",
        "examples = [\"level\", \"Able was I ere I saw Elba\", \"Python\"]\n",
        "for example in examples:\n",
        "  print(example , '->', is_palindrome(example))\n"
      ],
      "metadata": {
        "colab": {
          "base_uri": "https://localhost:8080/"
        },
        "id": "RPeXiKr7759S",
        "outputId": "3c8d8348-6cc9-462a-e17f-dca2b5744657"
      },
      "id": "RPeXiKr7759S",
      "execution_count": 8,
      "outputs": [
        {
          "output_type": "stream",
          "name": "stdout",
          "text": [
            "level -> True\n",
            "Able was I ere I saw Elba -> True\n",
            "Python -> False\n"
          ]
        }
      ]
    },
    {
      "cell_type": "markdown",
      "id": "e99ff3d2",
      "metadata": {
        "id": "e99ff3d2"
      },
      "source": [
        "### Module 6: Exception Handling\n",
        "#### 📖 Giải thích\n",
        "- Khối `try`/`except`/`else`/`finally`.\n",
        "- Các lỗi thường gặp: `ValueError`, `TypeError`.\n",
        "#### ⚠️ Common Mistakes\n",
        "- Bắt `except:` quá rộng làm che dấu lỗi.\n",
        "#### 💡 Pythonic Way\n",
        "- Bắt lỗi cụ thể, tuân theo triết lý EAFP (Easier to Ask Forgiveness than Permission).\n",
        "#### 🎯 Thử thách\n",
        "- Nhập và validate số nguyên dương từ người dùng."
      ]
    },
    {
      "cell_type": "code",
      "execution_count": null,
      "id": "f7e42d04",
      "metadata": {
        "id": "f7e42d04",
        "outputId": "78f47fc9-77e4-4b94-8498-4463b211c0ad"
      },
      "outputs": [
        {
          "name": "stdout",
          "output_type": "stream",
          "text": [
            "5.0\n",
            "Không thể chia cho 0!\n",
            "inf\n"
          ]
        }
      ],
      "source": [
        "# 💻 Ví dụ: Xử lý input không hợp lệ\n",
        "def divide(a: float, b: float) -> float:\n",
        "    try:\n",
        "        return a / b\n",
        "    except ZeroDivisionError:\n",
        "        print(\"Không thể chia cho 0!\")\n",
        "        return float('inf')\n",
        "\n",
        "print(divide(10, 2))\n",
        "print(divide(5, 0))"
      ]
    },
    {
      "cell_type": "code",
      "execution_count": null,
      "id": "9df56ff6",
      "metadata": {
        "id": "9df56ff6"
      },
      "outputs": [],
      "source": [
        "# 🎯 Thử thách: Validate số nguyên dương\n",
        "# TODO: Yêu cầu người dùng nhập một số\n",
        "# TODO: Dùng try/except để bắt ValueError\n",
        "# TODO: Kiểm tra số > 0, nếu không hãy yêu cầu nhập lại\n",
        "# Gợi ý: Dùng vòng lặp while True"
      ]
    },
    {
      "cell_type": "code",
      "source": [
        "while True:\n",
        "  try:\n",
        "    n = int(input(\"number:\"))\n",
        "    if n > 0:\n",
        "      print(f\"number : {n}\")\n",
        "      break\n",
        "    else:\n",
        "      print(\"Try again!\")\n",
        "  except ValueError:\n",
        "    print(\"Interger\")\n"
      ],
      "metadata": {
        "colab": {
          "base_uri": "https://localhost:8080/"
        },
        "id": "Z4Zc6-4mC9xS",
        "outputId": "fab2f07f-3617-4836-a34e-02b2cd32fd68"
      },
      "id": "Z4Zc6-4mC9xS",
      "execution_count": 13,
      "outputs": [
        {
          "output_type": "stream",
          "name": "stdout",
          "text": [
            "number:-32\n",
            "Try again!\n",
            "number:asda\n",
            "Interger\n",
            "number:34\n",
            "number : 34\n"
          ]
        }
      ]
    },
    {
      "cell_type": "markdown",
      "id": "f0eeb5b3",
      "metadata": {
        "id": "f0eeb5b3"
      },
      "source": [
        "## Phần 2: Python for Data Science"
      ]
    },
    {
      "cell_type": "markdown",
      "id": "7ef97392",
      "metadata": {
        "id": "7ef97392"
      },
      "source": [
        "### Module 7: List Comprehension & Lambda\n",
        "#### 📖 Giải thích\n",
        "- Cú pháp list comprehension: `[biểu_thức for phần_tử in iterable if điều_kiện]`.\n",
        "- Lambda: hàm ẩn danh hữu ích cho thao tác nhanh.\n",
        "#### ⚠️ Common Mistakes\n",
        "- Viết comprehension quá dài, khó đọc.\n",
        "#### 💡 Pythonic Way\n",
        "- Ưu tiên comprehension khi logic đơn giản.\n",
        "- Khi logic phức tạp, tách ra hàm riêng để rõ ràng.\n",
        "#### 🎯 Thử thách\n",
        "- Lọc số chẵn trong danh sách và bình phương chúng."
      ]
    },
    {
      "cell_type": "code",
      "execution_count": null,
      "id": "b0e04b74",
      "metadata": {
        "id": "b0e04b74",
        "outputId": "30686254-8a99-4f48-e2fc-bf58f34cccda"
      },
      "outputs": [
        {
          "name": "stdout",
          "output_type": "stream",
          "text": [
            "Comprehension: [1, 4, 9, 16, 25, 36, 49, 64, 81, 100]\n",
            "Map + lambda: [1, 4, 9, 16, 25, 36, 49, 64, 81, 100]\n",
            "Số chẵn: [2, 4, 6, 8, 10]\n"
          ]
        }
      ],
      "source": [
        "# 💻 Ví dụ: So sánh comprehension và map/filter\n",
        "numbers = list(range(1, 11))\n",
        "squares_comp = [n ** 2 for n in numbers]\n",
        "squares_map = list(map(lambda n: n ** 2, numbers))\n",
        "print(\"Comprehension:\", squares_comp)\n",
        "print(\"Map + lambda:\", squares_map)\n",
        "even_numbers = [n for n in numbers if n % 2 == 0]\n",
        "print(\"Số chẵn:\", even_numbers)"
      ]
    },
    {
      "cell_type": "code",
      "execution_count": null,
      "id": "da60c543",
      "metadata": {
        "id": "da60c543",
        "outputId": "6dbe17db-94fb-47db-8d6e-088b728bf9d9"
      },
      "outputs": [
        {
          "name": "stdout",
          "output_type": "stream",
          "text": [
            "[]\n"
          ]
        }
      ],
      "source": [
        "# 🎯 Thử thách: Lọc và bình phương số chẵn\n",
        "# TODO: Cho danh sách numbers, tạo danh sách mới chứa bình phương của số chẵn\n",
        "numbers = [3, 4, 7, 10, 12, 15, 18]\n",
        "# Gợi ý: sử dụng list comprehension hoặc kết hợp filter/map\n",
        "even_square_numbers = []  # Thay thế bằng kết quả của bạn\n",
        "print(even_square_numbers)"
      ]
    },
    {
      "cell_type": "code",
      "source": [
        "numbers = [3, 4, 7, 10, 12, 15, 18]\n",
        "even_square_numbers = [n ** 2 for n in numbers if n % 2 == 0]\n",
        "print(even_square_numbers)"
      ],
      "metadata": {
        "colab": {
          "base_uri": "https://localhost:8080/"
        },
        "id": "P8AslnvvO5y8",
        "outputId": "344d1e40-be16-4d42-cabb-518b3381eb12"
      },
      "id": "P8AslnvvO5y8",
      "execution_count": 15,
      "outputs": [
        {
          "output_type": "stream",
          "name": "stdout",
          "text": [
            "[16, 100, 144, 324]\n"
          ]
        }
      ]
    },
    {
      "cell_type": "markdown",
      "id": "095f86ff",
      "metadata": {
        "id": "095f86ff"
      },
      "source": [
        "### Module 8: Statistics & Math\n",
        "#### 📖 Giải thích\n",
        "- Mô-đun `statistics`: `mean`, `median`, `mode`, `stdev`, `pstdev`, `variance`.\n",
        "- Tính toán toán học dùng mô-đun `math`.\n",
        "#### ⚠️ Common Mistakes\n",
        "- Chia cho 0 khi danh sách rỗng.\n",
        "- Nhầm giữa `stdev` (mẫu) và `pstdev` (toàn bộ).\n",
        "#### 💡 Pythonic Way\n",
        "- Kiểm tra đầu vào trước khi tính toán.\n",
        "- Dùng `statistics` thay vì tự cài đặt nếu đã có sẵn.\n",
        "#### 🎯 Thử thách\n",
        "- Tính mean, median, std cho danh sách điểm thi."
      ]
    },
    {
      "cell_type": "code",
      "execution_count": null,
      "id": "1ac83b26",
      "metadata": {
        "id": "1ac83b26",
        "outputId": "18376b10-5255-4355-e49b-02cdedf4f81f"
      },
      "outputs": [
        {
          "name": "stdout",
          "output_type": "stream",
          "text": [
            "Mean: 7.88\n",
            "Median: 7.9\n",
            "Standard Deviation: 0.8757853618324525\n"
          ]
        }
      ],
      "source": [
        "# 💻 Ví dụ: Tính toán thống kê cơ bản\n",
        "sample_data = [7.5, 8.0, 9.2, 6.8, 7.9]\n",
        "print(\"Mean:\", stats.mean(sample_data))\n",
        "print(\"Median:\", stats.median(sample_data))\n",
        "print(\"Standard Deviation:\", stats.stdev(sample_data))"
      ]
    },
    {
      "cell_type": "code",
      "execution_count": null,
      "id": "f5346645",
      "metadata": {
        "id": "f5346645"
      },
      "outputs": [],
      "source": [
        "# 🎯 Thử thách: Thống kê điểm thi\n",
        "# TODO: Cho danh sách điểm exams, tính mean, median, std\n",
        "# TODO: In kết quả với 2 chữ số thập phân\n",
        "exams = [5.5, 7.0, 8.75, 9.0, 6.25, 7.5, 8.0]\n",
        "# Gợi ý: sử dụng round(value, 2)"
      ]
    },
    {
      "cell_type": "code",
      "source": [
        "import statistics as stats\n",
        "exams = [5.5, 7.0, 8.75, 9.0, 6.25, 7.5, 8.0]\n",
        "mean = round(stats.mean(exams),2)\n",
        "median = round(stats.median(exams),2)\n",
        "std = round(stats.stdev(exams),2)\n",
        "print(f\"Mean : {mean:.2f}\")\n",
        "print(f\"Median : {median:.2f}\")\n",
        "print(f\"Standard Deviation : {std:.2f}\")"
      ],
      "metadata": {
        "colab": {
          "base_uri": "https://localhost:8080/"
        },
        "id": "OcX4r2PuTWJV",
        "outputId": "a1d9c77f-c0ab-492c-d29b-b2c8c5c73704"
      },
      "id": "OcX4r2PuTWJV",
      "execution_count": 1,
      "outputs": [
        {
          "output_type": "stream",
          "name": "stdout",
          "text": [
            "Mean : 7.43\n",
            "Median : 7.50\n",
            "Standard Deviation : 1.28\n"
          ]
        }
      ]
    },
    {
      "cell_type": "markdown",
      "id": "3c9d5ef7",
      "metadata": {
        "id": "3c9d5ef7"
      },
      "source": [
        "### Module 9: NumPy Basics\n",
        "#### 📖 Giải thích\n",
        "- `numpy.ndarray` cho phép thao tác vector hoá và broadcasting.\n",
        "- Các thao tác thường dùng: tạo array, reshape, slicing, toán tử vector.\n",
        "#### ⚠️ Common Mistakes\n",
        "- Nhầm list với array (thiếu thuộc tính `.shape`).\n",
        "- Sai lệch kích thước dẫn tới lỗi broadcasting.\n",
        "#### 💡 Pythonic Way\n",
        "- Ưu tiên thao tác vector hoá thay vì vòng lặp thuần Python.\n",
        "#### 🎯 Thử thách\n",
        "- Chuẩn hoá (normalize) mảng điểm theo z-score."
      ]
    },
    {
      "cell_type": "code",
      "execution_count": 3,
      "id": "c47e8bb4",
      "metadata": {
        "id": "c47e8bb4",
        "outputId": "4efea356-f077-4237-c89a-8cf6a2db6215",
        "colab": {
          "base_uri": "https://localhost:8080/"
        }
      },
      "outputs": [
        {
          "output_type": "stream",
          "name": "stdout",
          "text": [
            "Array: [1 2 3 4 5]\n",
            "Shape: (5,)\n",
            "Bình phương từng phần tử: [ 1  4  9 16 25]\n",
            "Ma trận 3x4 [[ 1  2  3  4]\n",
            " [ 5  6  7  8]\n",
            " [ 9 10 11 12]]\n",
            "Cắt cột 2-3: [[ 2  3]\n",
            " [ 6  7]\n",
            " [10 11]]\n"
          ]
        }
      ],
      "source": [
        "# 💻 Ví dụ: Cơ bản về NumPy\n",
        "import numpy as np\n",
        "arr = np.array([1, 2, 3, 4, 5])\n",
        "print(\"Array:\", arr)\n",
        "print(\"Shape:\", arr.shape)\n",
        "print(\"Bình phương từng phần tử:\", arr ** 2)\n",
        "matrix = np.arange(1, 13).reshape(3, 4)\n",
        "print(\"Ma trận 3x4\",  matrix)\n",
        "print(\"Cắt cột 2-3:\", matrix[:, 1:3])"
      ]
    },
    {
      "cell_type": "code",
      "execution_count": null,
      "id": "c373345c",
      "metadata": {
        "id": "c373345c"
      },
      "outputs": [],
      "source": [
        "# 🎯 Thử thách: Chuẩn hoá điểm với z-score\n",
        "# TODO: Tạo np.array từ danh sách điểm\n",
        "# TODO: Tính mean và std (dùng np.mean, np.std)\n",
        "# TODO: Chuẩn hoá từng điểm: (score - mean) / std\n",
        "raw_scores = [6.5, 7.0, 8.2, 9.5, 7.8, 8.0]\n",
        "normalized_scores = None  # Thay bằng array chuẩn hoá\n",
        "print(normalized_scores)"
      ]
    },
    {
      "cell_type": "code",
      "source": [
        "import numpy as np\n",
        "raw_scores = np.array([6.5, 7.0, 8.2, 9.5, 7.8, 8.0])\n",
        "mean = np.mean(raw_scores)\n",
        "std = np.std(raw_scores)\n",
        "normalized_scores = (raw_scores - mean) / std\n",
        "print(normalized_scores)"
      ],
      "metadata": {
        "colab": {
          "base_uri": "https://localhost:8080/"
        },
        "id": "6rH46SEwAjJW",
        "outputId": "ea863363-ee94-49af-94e6-848f0c82df88"
      },
      "id": "6rH46SEwAjJW",
      "execution_count": 6,
      "outputs": [
        {
          "output_type": "stream",
          "name": "stdout",
          "text": [
            "[-1.40372481 -0.87732801  0.38602432  1.75465602 -0.03509312  0.1754656 ]\n"
          ]
        }
      ]
    },
    {
      "cell_type": "markdown",
      "id": "b71b4fd5",
      "metadata": {
        "id": "b71b4fd5"
      },
      "source": [
        "## Phần 3: Data Visualization"
      ]
    },
    {
      "cell_type": "markdown",
      "id": "9e172e82",
      "metadata": {
        "id": "9e172e82"
      },
      "source": [
        "### Module 10: Matplotlib Basics\n",
        "#### 📖 Giải thích\n",
        "- Các hàm cơ bản: `plt.plot`, `plt.bar`, `plt.hist`, `plt.scatter`.\n",
        "- Tư duy figure/axes: `fig, ax = plt.subplots()`.\n",
        "#### ⚠️ Common Mistakes\n",
        "- Quên `plt.show()` khiến biểu đồ không hiển thị.\n",
        "- Thiếu tiêu đề, nhãn trục, chú thích.\n",
        "#### 💡 Pythonic Way\n",
        "- Tách dữ liệu và thiết lập biểu đồ rõ ràng.\n",
        "- Dùng subplot để vẽ nhiều đồ thị trong một figure.\n",
        "#### 🎯 Thử thách\n",
        "- Vẽ histogram phân bố điểm của lớp."
      ]
    },
    {
      "cell_type": "code",
      "execution_count": 9,
      "id": "cf00a91b",
      "metadata": {
        "id": "cf00a91b",
        "colab": {
          "base_uri": "https://localhost:8080/",
          "height": 788
        },
        "outputId": "85c7e1a9-b756-4629-b4e2-7569dc703101"
      },
      "outputs": [
        {
          "output_type": "display_data",
          "data": {
            "text/plain": [
              "<Figure size 600x400 with 1 Axes>"
            ],
            "image/png": "[encoded data removed]"
          },
          "metadata": {}
        },
        {
          "output_type": "display_data",
          "data": {
            "text/plain": [
              "<Figure size 600x400 with 1 Axes>"
            ],
            "image/png": "[encoded data removed]"
          },
          "metadata": {}
        }
      ],
      "source": [
        "# 💻 Ví dụ: Line chart và bar chart\n",
        "import matplotlib.pyplot as plt\n",
        "fig, ax = plt.subplots(figsize=(6, 4))\n",
        "weeks = [1, 2, 3, 4]\n",
        "progress = [60, 65, 75, 85]\n",
        "ax.plot(weeks, progress, marker='o', label='Tiến độ')\n",
        "ax.set_title('Tiến bộ học tập')\n",
        "ax.set_xlabel('Tuần')\n",
        "ax.set_ylabel('Điểm trung bình')\n",
        "ax.legend()\n",
        "plt.show()\n",
        "\n",
        "fig, ax = plt.subplots(figsize=(6, 4))\n",
        "subjects = ['Toán', 'Lý', 'Hóa', 'Anh']\n",
        "scores = [8.5, 7.8, 8.2, 9.0]\n",
        "ax.bar(subjects, scores, color='skyblue')\n",
        "ax.set_title('Điểm trung bình theo môn')\n",
        "ax.set_ylabel('Điểm')\n",
        "plt.show()"
      ]
    },
    {
      "cell_type": "code",
      "execution_count": null,
      "id": "19033aff",
      "metadata": {
        "id": "19033aff"
      },
      "outputs": [],
      "source": [
        "# 🎯 Thử thách: Histogram phân bố điểm\n",
        "# TODO: Cho danh sách điểm, vẽ histogram với matplotlib\n",
        "class_scores = np.random.normal(loc=7.5, scale=1.2, size=50)\n",
        "# Gợi ý: dùng plt.hist(..., bins=10), thêm tiêu đề và nhãn trục"
      ]
    },
    {
      "cell_type": "code",
      "source": [
        "import matplotlib.pyplot as plt\n",
        "class_scores = np.random.normal(loc=7.5, scale=1.2, size=50)\n",
        "plt.hist(class_scores, bins=10)\n",
        "plt.title(\"Histogram\")\n",
        "plt.xlabel(\"Điểm\")\n",
        "plt.ylabel(\"Số lượng\")\n",
        "plt.show()"
      ],
      "metadata": {
        "colab": {
          "base_uri": "https://localhost:8080/",
          "height": 472
        },
        "id": "mDMr99CrFuX0",
        "outputId": "712a38cf-6df7-4d6a-a2b0-c73f1e0b5d4e"
      },
      "id": "mDMr99CrFuX0",
      "execution_count": 14,
      "outputs": [
        {
          "output_type": "display_data",
          "data": {
            "text/plain": [
              "<Figure size 640x480 with 1 Axes>"
            ],
            "image/png": "[encoded data removed]"
          },
          "metadata": {}
        }
      ]
    },
    {
      "cell_type": "markdown",
      "id": "6a54695f",
      "metadata": {
        "id": "6a54695f"
      },
      "source": [
        "## Phần 4: Final Projects\n",
        "Hoàn thành ba dự án dưới đây. Bạn có thể mở rộng thêm tính năng để tăng thử thách."
      ]
    },
    {
      "cell_type": "markdown",
      "id": "5e6481af",
      "metadata": {
        "id": "5e6481af"
      },
      "source": [
        "### Bài 1: Quản lý điểm học sinh (Nâng cao)\n",
        "#### Yêu cầu\n",
        "- Nhập danh sách học sinh và điểm (có thể dùng dict).\n",
        "- Xếp loại học sinh theo thang điểm (A/B/C/D/F tuỳ vào bạn định nghĩa).\n",
        "- Tìm học sinh điểm cao nhất/thấp nhất.\n",
        "- Tính mean, median, std của lớp.\n",
        "- Vẽ histogram phân bố điểm và bar chart số lượng từng loại.\n",
        "#### Gợi ý kỹ năng\n",
        "- Dùng dict để lưu trữ thông tin, hàm để tổ chức logic, `statistics` và `matplotlib`."
      ]
    },
    {
      "cell_type": "code",
      "execution_count": 16,
      "id": "da81a7aa",
      "metadata": {
        "id": "da81a7aa"
      },
      "outputs": [],
      "source": [
        "# 🛠️ Skeleton: Quản lý điểm học sinh\n",
        "# Bước 1: Thu thập dữ liệu học sinh\n",
        "students = {\n",
        "    # \"Tên\": [danh_sách_điểm]\n",
        "}\n",
        "\n",
        "# Bước 2: Viết hàm xếp loại\n",
        "def classify(score: float) -> str:\n",
        "    # TODO: Trả về hạng dựa trên score\n",
        "    return \"TODO\"\n",
        "\n",
        "# Bước 3: Tính toán thống kê và tìm max/min\n",
        "# TODO: Dùng statistics.mean/median/stdev\n",
        "# TODO: In báo cáo điểm từng học sinh\n",
        "\n",
        "# Bước 4: Vẽ biểu đồ histogram & bar chart\n",
        "# TODO: Sử dụng matplotlib để trực quan hoá"
      ]
    },
    {
      "cell_type": "code",
      "source": [],
      "metadata": {
        "id": "uLGvEC0_HC6F"
      },
      "id": "uLGvEC0_HC6F",
      "execution_count": null,
      "outputs": []
    },
    {
      "cell_type": "markdown",
      "id": "41fcdb75",
      "metadata": {
        "id": "41fcdb75"
      },
      "source": [
        "### Bài 2: Vẽ hình thoi\n",
        "#### Yêu cầu\n",
        "- Nhập `n` (validate số nguyên dương).\n",
        "- Nếu `n` chẵn thì tăng lên `n + 1` để đảm bảo số lẻ.\n",
        "- Vẽ hình thoi n×n bằng ký tự `*`.\n",
        "#### Gợi ý kỹ năng\n",
        "- Sử dụng vòng lặp, nhân chuỗi và xử lý ngoại lệ."
      ]
    },
    {
      "cell_type": "code",
      "execution_count": null,
      "id": "702d077b",
      "metadata": {
        "id": "702d077b"
      },
      "outputs": [],
      "source": [
        "# 🛠️ Skeleton: Vẽ hình thoi\n",
        "def read_positive_odd() -> int:\n",
        "    \"\"\"Trả về số nguyên dương lẻ từ input người dùng.\"\"\"\n",
        "    # TODO: Dùng try/except và vòng lặp để validate\n",
        "    raise NotImplementedError\n",
        "\n",
        "def draw_rhombus(n: int) -> None:\n",
        "    # TODO: In hình thoi n x n bằng ký tự '*'\n",
        "    # Gợi ý: Vòng lặp qua từng dòng, tính số khoảng trắng và sao\n",
        "    pass\n",
        "\n",
        "# TODO: Gọi read_positive_odd và draw_rhombus để chạy chương trình"
      ]
    },
    {
      "cell_type": "code",
      "source": [
        "def read_positive_odd() -> int:\n",
        "  while True:\n",
        "    try:\n",
        "      n = int(input(\"Number: \"))\n",
        "      if n > 0 and n % 2 == 1:\n",
        "        return n\n",
        "      else :\n",
        "        print(\"Again\")\n",
        "    except :\n",
        "      print(\"Interger\")\n",
        "\n",
        "def draw_rhombus(n: int) -> None:\n",
        "  for i in range(n):\n",
        "    if i <= n // 2:\n",
        "      stars = 2 * i + 1\n",
        "    else:\n",
        "      stars = 2 * (n - i - 1) + 1\n",
        "\n",
        "    spaces = ( n - stars ) // 2\n",
        "    print(\" \" * spaces + \"*\" * stars)\n",
        "\n",
        "n = read_positive_odd()\n",
        "draw_rhombus(n)\n",
        "\n",
        "\n"
      ],
      "metadata": {
        "colab": {
          "base_uri": "https://localhost:8080/"
        },
        "id": "1Ovmodr7HvKF",
        "outputId": "6f5c0007-2994-4af5-ca7b-55f9e613bd52"
      },
      "id": "1Ovmodr7HvKF",
      "execution_count": 31,
      "outputs": [
        {
          "output_type": "stream",
          "name": "stdout",
          "text": [
            "Number: 99\n",
            "                                                 *\n",
            "                                                ***\n",
            "                                               *****\n",
            "                                              *******\n",
            "                                             *********\n",
            "                                            ***********\n",
            "                                           *************\n",
            "                                          ***************\n",
            "                                         *****************\n",
            "                                        *******************\n",
            "                                       *********************\n",
            "                                      ***********************\n",
            "                                     *************************\n",
            "                                    ***************************\n",
            "                                   *****************************\n",
            "                                  *******************************\n",
            "                                 *********************************\n",
            "                                ***********************************\n",
            "                               *************************************\n",
            "                              ***************************************\n",
            "                             *****************************************\n",
            "                            *******************************************\n",
            "                           *********************************************\n",
            "                          ***********************************************\n",
            "                         *************************************************\n",
            "                        ***************************************************\n",
            "                       *****************************************************\n",
            "                      *******************************************************\n",
            "                     *********************************************************\n",
            "                    ***********************************************************\n",
            "                   *************************************************************\n",
            "                  ***************************************************************\n",
            "                 *****************************************************************\n",
            "                *******************************************************************\n",
            "               *********************************************************************\n",
            "              ***********************************************************************\n",
            "             *************************************************************************\n",
            "            ***************************************************************************\n",
            "           *****************************************************************************\n",
            "          *******************************************************************************\n",
            "         *********************************************************************************\n",
            "        ***********************************************************************************\n",
            "       *************************************************************************************\n",
            "      ***************************************************************************************\n",
            "     *****************************************************************************************\n",
            "    *******************************************************************************************\n",
            "   *********************************************************************************************\n",
            "  ***********************************************************************************************\n",
            " *************************************************************************************************\n",
            "***************************************************************************************************\n",
            " *************************************************************************************************\n",
            "  ***********************************************************************************************\n",
            "   *********************************************************************************************\n",
            "    *******************************************************************************************\n",
            "     *****************************************************************************************\n",
            "      ***************************************************************************************\n",
            "       *************************************************************************************\n",
            "        ***********************************************************************************\n",
            "         *********************************************************************************\n",
            "          *******************************************************************************\n",
            "           *****************************************************************************\n",
            "            ***************************************************************************\n",
            "             *************************************************************************\n",
            "              ***********************************************************************\n",
            "               *********************************************************************\n",
            "                *******************************************************************\n",
            "                 *****************************************************************\n",
            "                  ***************************************************************\n",
            "                   *************************************************************\n",
            "                    ***********************************************************\n",
            "                     *********************************************************\n",
            "                      *******************************************************\n",
            "                       *****************************************************\n",
            "                        ***************************************************\n",
            "                         *************************************************\n",
            "                          ***********************************************\n",
            "                           *********************************************\n",
            "                            *******************************************\n",
            "                             *****************************************\n",
            "                              ***************************************\n",
            "                               *************************************\n",
            "                                ***********************************\n",
            "                                 *********************************\n",
            "                                  *******************************\n",
            "                                   *****************************\n",
            "                                    ***************************\n",
            "                                     *************************\n",
            "                                      ***********************\n",
            "                                       *********************\n",
            "                                        *******************\n",
            "                                         *****************\n",
            "                                          ***************\n",
            "                                           *************\n",
            "                                            ***********\n",
            "                                             *********\n",
            "                                              *******\n",
            "                                               *****\n",
            "                                                ***\n",
            "                                                 *\n"
          ]
        }
      ]
    },
    {
      "cell_type": "markdown",
      "id": "3e8f4217",
      "metadata": {
        "id": "3e8f4217"
      },
      "source": [
        "### Bài 3: Statistical Analysis Project ⭐\n",
        "#### Yêu cầu\n",
        "- Input: điểm của nhiều môn (Toán, Lý, Hóa, Anh, Văn) cho nhiều học sinh.\n",
        "- Tính mean, median, mode, std cho mỗi môn.\n",
        "- Tính mean GPA cho từng học sinh.\n",
        "- Tính hệ số tương quan giữa các môn.\n",
        "- Vẽ histogram cho mỗi môn, bar chart điểm trung bình từng môn, scatter plot thể hiện tương quan hai môn.\n",
        "#### Gợi ý kỹ năng\n",
        "- Sử dụng NumPy arrays, `statistics`, `numpy.corrcoef`, `matplotlib`."
      ]
    },
    {
      "cell_type": "code",
      "execution_count": null,
      "id": "d5df8a2b",
      "metadata": {
        "id": "d5df8a2b"
      },
      "outputs": [],
      "source": [
        "# 🛠️ Skeleton: Statistical Analysis Project\n",
        "subjects = [\"Toán\", \"Lý\", \"Hóa\", \"Anh\", \"Văn\"]\n",
        "# TODO: Khởi tạo dữ liệu điểm dạng NumPy array (shape: số_học_sinh x số_môn)\n",
        "data = np.array([])  # Thay bằng dữ liệu của bạn\n",
        "\n",
        "# TODO: Tính mean, median, mode, std cho mỗi môn\n",
        "# Gợi ý: Duyệt qua trục cột (axis=0)\n",
        "\n",
        "# TODO: Tính mean GPA của mỗi học sinh\n",
        "\n",
        "# TODO: Tính ma trận tương quan giữa các môn (np.corrcoef)\n",
        "\n",
        "# TODO: Vẽ histogram, bar chart, scatter plot\n",
        "# Gợi ý: Sử dụng subplot để sắp xếp biểu đồ gọn gàng"
      ]
    }
  ],
  "metadata": {
    "kernelspec": {
      "display_name": ".venv",
      "language": "python",
      "name": "python3"
    },
    "language_info": {
      "codemirror_mode": {
        "name": "ipython",
        "version": 3
      },
      "file_extension": ".py",
      "mimetype": "text/x-python",
      "name": "python",
      "nbconvert_exporter": "python",
      "pygments_lexer": "ipython3",
      "version": "3.11.2"
    },
    "colab": {
      "provenance": [],
      "include_colab_link": true
    }
  },
  "nbformat": 4,
  "nbformat_minor": 5
}